{
 "cells": [
  {
   "cell_type": "code",
   "execution_count": 20,
   "metadata": {},
   "outputs": [],
   "source": [
    "import re"
   ]
  },
  {
   "cell_type": "code",
   "execution_count": 21,
   "metadata": {},
   "outputs": [
    {
     "data": {
      "text/plain": [
       "['color', 'colour']"
      ]
     },
     "execution_count": 21,
     "metadata": {},
     "output_type": "execute_result"
    }
   ],
   "source": [
    "l = \"color or colour\"\n",
    "pattern = re.compile(\"colou?r\")\n",
    "pattern.findall(l)"
   ]
  },
  {
   "cell_type": "code",
   "execution_count": 22,
   "metadata": {},
   "outputs": [],
   "source": [
    "coordination_source = \"\"\"\n",
    "{name:'兰州', geoCoord:[103.73, 36.03]},\n",
    "{name:'嘉峪关', geoCoord:[98.17, 39.47]},\n",
    "{name:'西宁', geoCoord:[101.74, 36.56]},\n",
    "{name:'成都', geoCoord:[104.06, 30.67]},\n",
    "{name:'石家庄', geoCoord:[114.48, 38.03]},\n",
    "{name:'拉萨', geoCoord:[102.73, 25.04]},\n",
    "{name:'贵阳', geoCoord:[106.71, 26.57]},\n",
    "{name:'武汉', geoCoord:[114.31, 30.52]},\n",
    "{name:'郑州', geoCoord:[113.65, 34.76]},\n",
    "{name:'济南', geoCoord:[117, 36.65]},\n",
    "{name:'南京', geoCoord:[118.78, 32.04]},\n",
    "{name:'合肥', geoCoord:[117.27, 31.86]},\n",
    "{name:'杭州', geoCoord:[120.19, 30.26]},\n",
    "{name:'南昌', geoCoord:[115.89, 28.68]},\n",
    "{name:'福州', geoCoord:[119.3, 26.08]},\n",
    "{name:'广州', geoCoord:[113.23, 23.16]},\n",
    "{name:'长沙', geoCoord:[113, 28.21]},\n",
    "//{name:'海口', geoCoord:[110.35, 20.02]},\n",
    "{name:'沈阳', geoCoord:[123.38, 41.8]},\n",
    "{name:'长春', geoCoord:[125.35, 43.88]},\n",
    "{name:'哈尔滨', geoCoord:[126.63, 45.75]},\n",
    "{name:'太原', geoCoord:[112.53, 37.87]},\n",
    "{name:'西安', geoCoord:[108.95, 34.27]},\n",
    "//{name:'台湾', geoCoord:[121.30, 25.03]},\n",
    "{name:'北京', geoCoord:[116.46, 39.92]},\n",
    "{name:'上海', geoCoord:[121.48, 31.22]},\n",
    "{name:'重庆', geoCoord:[106.54, 29.59]},\n",
    "{name:'天津', geoCoord:[117.2, 39.13]},\n",
    "{name:'呼和浩特', geoCoord:[111.65, 40.82]},\n",
    "{name:'南宁', geoCoord:[108.33, 22.84]},\n",
    "//{name:'西藏', geoCoord:[91.11, 29.97]},\n",
    "{name:'银川', geoCoord:[106.27, 38.47]},\n",
    "{name:'乌鲁木齐', geoCoord:[87.68, 43.77]},\n",
    "{name:'香港', geoCoord:[114.17, 22.28]},\n",
    "{name:'澳门', geoCoord:[113.54, 22.19]}\n",
    "\"\"\""
   ]
  },
  {
   "cell_type": "code",
   "execution_count": 23,
   "metadata": {},
   "outputs": [],
   "source": [
    "def get_city_info(city_coodination):\n",
    "    city_location = {}\n",
    "    for line in city_coodination.split(\"\\n\"):\n",
    "        if line.startswith(\"//\"):continue\n",
    "        if line.strip() == \"\":continue\n",
    "        \n",
    "        city = re.findall(\"name:'(\\w+)'\",line)[0]\n",
    "        x_y = re.findall(\"Coord:\\[(\\d+.\\d+),\\s(\\d+.\\d+)\\]\",line)[0]\n",
    "        x_y = tuple(map(float,x_y))\n",
    "        city_location[city] = x_y\n",
    "    \n",
    "    return city_location"
   ]
  },
  {
   "cell_type": "code",
   "execution_count": 24,
   "metadata": {},
   "outputs": [],
   "source": [
    "city_location_info = get_city_info(coordination_source)"
   ]
  },
  {
   "cell_type": "code",
   "execution_count": 25,
   "metadata": {},
   "outputs": [
    {
     "data": {
      "text/plain": [
       "{'上海': (121.48, 31.22),\n",
       " '乌鲁木齐': (87.68, 43.77),\n",
       " '兰州': (103.73, 36.03),\n",
       " '北京': (116.46, 39.92),\n",
       " '南京': (118.78, 32.04),\n",
       " '南宁': (108.33, 22.84),\n",
       " '南昌': (115.89, 28.68),\n",
       " '合肥': (117.27, 31.86),\n",
       " '呼和浩特': (111.65, 40.82),\n",
       " '哈尔滨': (126.63, 45.75),\n",
       " '嘉峪关': (98.17, 39.47),\n",
       " '天津': (117.2, 39.13),\n",
       " '太原': (112.53, 37.87),\n",
       " '广州': (113.23, 23.16),\n",
       " '成都': (104.06, 30.67),\n",
       " '拉萨': (102.73, 25.04),\n",
       " '杭州': (120.19, 30.26),\n",
       " '武汉': (114.31, 30.52),\n",
       " '沈阳': (123.38, 41.8),\n",
       " '济南': (117.0, 36.65),\n",
       " '澳门': (113.54, 22.19),\n",
       " '石家庄': (114.48, 38.03),\n",
       " '福州': (119.3, 26.08),\n",
       " '西宁': (101.74, 36.56),\n",
       " '西安': (108.95, 34.27),\n",
       " '贵阳': (106.71, 26.57),\n",
       " '郑州': (113.65, 34.76),\n",
       " '重庆': (106.54, 29.59),\n",
       " '银川': (106.27, 38.47),\n",
       " '长春': (125.35, 43.88),\n",
       " '长沙': (113.0, 28.21),\n",
       " '香港': (114.17, 22.28)}"
      ]
     },
     "execution_count": 25,
     "metadata": {},
     "output_type": "execute_result"
    }
   ],
   "source": [
    "city_location_info"
   ]
  },
  {
   "cell_type": "markdown",
   "metadata": {},
   "source": [
    "#以下函数为通过经纬度计算两个城市的距离，从别处直接拷贝过来的函数，因为地球是球形，通过换算经纬度得到两个城市的距离"
   ]
  },
  {
   "cell_type": "code",
   "execution_count": 26,
   "metadata": {},
   "outputs": [],
   "source": [
    "import math\n",
    "\n",
    "def geo_distance(origin, destination):\n",
    "    \"\"\"\n",
    "    Calculate the Haversine distance.\n",
    "\n",
    "    Parameters\n",
    "    ----------\n",
    "    origin : tuple of float\n",
    "        (lat, long)\n",
    "    destination : tuple of float\n",
    "        (lat, long)\n",
    "\n",
    "    Returns\n",
    "    -------\n",
    "    distance_in_km : float\n",
    "\n",
    "    Examples\n",
    "    --------\n",
    "    >>> origin = (48.1372, 11.5756)  # Munich\n",
    "    >>> destination = (52.5186, 13.4083)  # Berlin\n",
    "    >>> round(distance(origin, destination), 1)\n",
    "    504.2\n",
    "    \"\"\"\n",
    "    lat1, lon1 = origin\n",
    "    lat2, lon2 = destination\n",
    "    radius = 6371  # km\n",
    "\n",
    "    dlat = math.radians(lat2 - lat1)\n",
    "    dlon = math.radians(lon2 - lon1)\n",
    "    a = (math.sin(dlat / 2) * math.sin(dlat / 2) +\n",
    "         math.cos(math.radians(lat1)) * math.cos(math.radians(lat2)) *\n",
    "         math.sin(dlon / 2) * math.sin(dlon / 2))\n",
    "    c = 2 * math.atan2(math.sqrt(a), math.sqrt(1 - a))\n",
    "    d = radius * c\n",
    "\n",
    "    return d"
   ]
  },
  {
   "cell_type": "code",
   "execution_count": 27,
   "metadata": {},
   "outputs": [],
   "source": [
    "def get_city_distance(city1,city2):\n",
    "    return geo_distance(city_location_info[city1],city_location_info[city2])"
   ]
  },
  {
   "cell_type": "code",
   "execution_count": 28,
   "metadata": {
    "scrolled": true
   },
   "outputs": [
    {
     "data": {
      "text/plain": [
       "1982.8114694462738"
      ]
     },
     "execution_count": 28,
     "metadata": {},
     "output_type": "execute_result"
    }
   ],
   "source": [
    "get_city_distance(\"上海\",\"兰州\")"
   ]
  },
  {
   "cell_type": "markdown",
   "metadata": {},
   "source": [
    "画地图 draw the map"
   ]
  },
  {
   "cell_type": "code",
   "execution_count": 29,
   "metadata": {},
   "outputs": [],
   "source": [
    "import networkx as nx\n",
    "import matplotlib.pyplot as plt\n",
    "\n",
    "plt.rcParams['font.sans-serif']=['SimHei']\n",
    "plt.rcParams['axes.unicode_minus']=False"
   ]
  },
  {
   "cell_type": "code",
   "execution_count": 30,
   "metadata": {},
   "outputs": [
    {
     "data": {
      "text/plain": [
       "dict_keys(['兰州', '嘉峪关', '西宁', '成都', '石家庄', '拉萨', '贵阳', '武汉', '郑州', '济南', '南京', '合肥', '杭州', '南昌', '福州', '广州', '长沙', '沈阳', '长春', '哈尔滨', '太原', '西安', '北京', '上海', '重庆', '天津', '呼和浩特', '南宁', '银川', '乌鲁木齐', '香港', '澳门'])"
      ]
     },
     "execution_count": 30,
     "metadata": {},
     "output_type": "execute_result"
    }
   ],
   "source": [
    "city_location_info.keys()"
   ]
  },
  {
   "cell_type": "code",
   "execution_count": 31,
   "metadata": {},
   "outputs": [],
   "source": [
    "city_graph=nx.Graph()\n",
    "city_graph.add_nodes_from(list(city_location_info.keys()))"
   ]
  },
  {
   "cell_type": "code",
   "execution_count": 32,
   "metadata": {},
   "outputs": [
    {
     "data": {
      "image/png": "[encoded data removed]",
      "text/plain": [
       "<Figure size 432x288 with 1 Axes>"
      ]
     },
     "metadata": {},
     "output_type": "display_data"
    }
   ],
   "source": [
    "nx.draw(city_graph,city_location_info,with_labels=True,node_size=10)"
   ]
  },
  {
   "cell_type": "code",
   "execution_count": 33,
   "metadata": {},
   "outputs": [],
   "source": [
    "threshold=700"
   ]
  },
  {
   "cell_type": "code",
   "execution_count": 34,
   "metadata": {},
   "outputs": [],
   "source": [
    "from collections import defaultdict"
   ]
  },
  {
   "cell_type": "code",
   "execution_count": 35,
   "metadata": {},
   "outputs": [],
   "source": [
    "def build_connection(city_loc_info):\n",
    "    cities_connection=defaultdict(list)\n",
    "    cities=list(city_location_info.keys())\n",
    "    for city1 in cities:\n",
    "        for city2 in cities:\n",
    "            if city1 == city2:continue\n",
    "            if get_city_distance(city1,city2) < threshold:\n",
    "                cities_connection[city1].append(city2)\n",
    "    return cities_connection"
   ]
  },
  {
   "cell_type": "code",
   "execution_count": 36,
   "metadata": {},
   "outputs": [],
   "source": [
    "cities_connection = build_connection(city_location_info)"
   ]
  },
  {
   "cell_type": "code",
   "execution_count": 37,
   "metadata": {},
   "outputs": [
    {
     "data": {
      "text/plain": [
       "defaultdict(list,\n",
       "            {'上海': ['济南', '南京', '合肥', '杭州', '南昌', '福州', '沈阳', '天津'],\n",
       "             '兰州': ['嘉峪关', '西宁', '成都', '拉萨', '贵阳', '西安', '重庆', '南宁', '银川'],\n",
       "             '北京': ['石家庄',\n",
       "              '武汉',\n",
       "              '郑州',\n",
       "              '济南',\n",
       "              '南京',\n",
       "              '合肥',\n",
       "              '杭州',\n",
       "              '南昌',\n",
       "              '长沙',\n",
       "              '太原',\n",
       "              '天津',\n",
       "              '呼和浩特'],\n",
       "             '南京': ['石家庄',\n",
       "              '武汉',\n",
       "              '郑州',\n",
       "              '济南',\n",
       "              '合肥',\n",
       "              '杭州',\n",
       "              '南昌',\n",
       "              '福州',\n",
       "              '长沙',\n",
       "              '北京',\n",
       "              '上海',\n",
       "              '天津'],\n",
       "             '南宁': ['兰州',\n",
       "              '成都',\n",
       "              '拉萨',\n",
       "              '贵阳',\n",
       "              '广州',\n",
       "              '长沙',\n",
       "              '西安',\n",
       "              '重庆',\n",
       "              '银川',\n",
       "              '香港',\n",
       "              '澳门'],\n",
       "             '南昌': ['石家庄',\n",
       "              '武汉',\n",
       "              '郑州',\n",
       "              '济南',\n",
       "              '南京',\n",
       "              '合肥',\n",
       "              '杭州',\n",
       "              '福州',\n",
       "              '广州',\n",
       "              '长沙',\n",
       "              '太原',\n",
       "              '北京',\n",
       "              '上海',\n",
       "              '天津',\n",
       "              '香港',\n",
       "              '澳门'],\n",
       "             '合肥': ['石家庄',\n",
       "              '武汉',\n",
       "              '郑州',\n",
       "              '济南',\n",
       "              '南京',\n",
       "              '杭州',\n",
       "              '南昌',\n",
       "              '福州',\n",
       "              '广州',\n",
       "              '长沙',\n",
       "              '太原',\n",
       "              '北京',\n",
       "              '上海',\n",
       "              '天津',\n",
       "              '香港',\n",
       "              '澳门'],\n",
       "             '呼和浩特': ['石家庄',\n",
       "              '武汉',\n",
       "              '郑州',\n",
       "              '济南',\n",
       "              '长沙',\n",
       "              '太原',\n",
       "              '西安',\n",
       "              '北京',\n",
       "              '重庆',\n",
       "              '天津',\n",
       "              '银川'],\n",
       "             '哈尔滨': ['沈阳', '长春'],\n",
       "             '嘉峪关': ['兰州', '西宁', '成都', '拉萨'],\n",
       "             '天津': ['石家庄',\n",
       "              '武汉',\n",
       "              '郑州',\n",
       "              '济南',\n",
       "              '南京',\n",
       "              '合肥',\n",
       "              '杭州',\n",
       "              '南昌',\n",
       "              '长沙',\n",
       "              '太原',\n",
       "              '北京',\n",
       "              '上海',\n",
       "              '呼和浩特'],\n",
       "             '太原': ['石家庄',\n",
       "              '武汉',\n",
       "              '郑州',\n",
       "              '济南',\n",
       "              '合肥',\n",
       "              '南昌',\n",
       "              '广州',\n",
       "              '长沙',\n",
       "              '西安',\n",
       "              '北京',\n",
       "              '天津',\n",
       "              '呼和浩特',\n",
       "              '银川',\n",
       "              '澳门'],\n",
       "             '广州': ['石家庄',\n",
       "              '武汉',\n",
       "              '郑州',\n",
       "              '合肥',\n",
       "              '南昌',\n",
       "              '福州',\n",
       "              '长沙',\n",
       "              '太原',\n",
       "              '西安',\n",
       "              '南宁',\n",
       "              '香港',\n",
       "              '澳门'],\n",
       "             '成都': ['兰州', '嘉峪关', '西宁', '拉萨', '贵阳', '西安', '重庆', '南宁', '银川'],\n",
       "             '拉萨': ['兰州', '嘉峪关', '西宁', '成都', '贵阳', '重庆', '南宁', '银川'],\n",
       "             '杭州': ['武汉', '济南', '南京', '合肥', '南昌', '福州', '北京', '上海', '天津'],\n",
       "             '武汉': ['石家庄',\n",
       "              '郑州',\n",
       "              '济南',\n",
       "              '南京',\n",
       "              '合肥',\n",
       "              '杭州',\n",
       "              '南昌',\n",
       "              '福州',\n",
       "              '广州',\n",
       "              '长沙',\n",
       "              '太原',\n",
       "              '西安',\n",
       "              '北京',\n",
       "              '天津',\n",
       "              '呼和浩特',\n",
       "              '香港',\n",
       "              '澳门'],\n",
       "             '沈阳': ['长春', '哈尔滨', '上海'],\n",
       "             '济南': ['石家庄',\n",
       "              '武汉',\n",
       "              '郑州',\n",
       "              '南京',\n",
       "              '合肥',\n",
       "              '杭州',\n",
       "              '南昌',\n",
       "              '福州',\n",
       "              '长沙',\n",
       "              '太原',\n",
       "              '北京',\n",
       "              '上海',\n",
       "              '天津',\n",
       "              '呼和浩特'],\n",
       "             '澳门': ['武汉',\n",
       "              '郑州',\n",
       "              '合肥',\n",
       "              '南昌',\n",
       "              '福州',\n",
       "              '广州',\n",
       "              '长沙',\n",
       "              '太原',\n",
       "              '南宁',\n",
       "              '香港'],\n",
       "             '石家庄': ['武汉',\n",
       "              '郑州',\n",
       "              '济南',\n",
       "              '南京',\n",
       "              '合肥',\n",
       "              '南昌',\n",
       "              '广州',\n",
       "              '长沙',\n",
       "              '太原',\n",
       "              '西安',\n",
       "              '北京',\n",
       "              '天津',\n",
       "              '呼和浩特'],\n",
       "             '福州': ['武汉',\n",
       "              '济南',\n",
       "              '南京',\n",
       "              '合肥',\n",
       "              '杭州',\n",
       "              '南昌',\n",
       "              '广州',\n",
       "              '上海',\n",
       "              '香港',\n",
       "              '澳门'],\n",
       "             '西宁': ['兰州', '嘉峪关', '成都', '拉萨', '贵阳', '重庆', '银川'],\n",
       "             '西安': ['兰州',\n",
       "              '成都',\n",
       "              '石家庄',\n",
       "              '贵阳',\n",
       "              '武汉',\n",
       "              '郑州',\n",
       "              '广州',\n",
       "              '长沙',\n",
       "              '太原',\n",
       "              '重庆',\n",
       "              '呼和浩特',\n",
       "              '南宁',\n",
       "              '银川'],\n",
       "             '贵阳': ['兰州', '西宁', '成都', '拉萨', '西安', '重庆', '南宁', '银川'],\n",
       "             '郑州': ['石家庄',\n",
       "              '武汉',\n",
       "              '济南',\n",
       "              '南京',\n",
       "              '合肥',\n",
       "              '南昌',\n",
       "              '广州',\n",
       "              '长沙',\n",
       "              '太原',\n",
       "              '西安',\n",
       "              '北京',\n",
       "              '天津',\n",
       "              '呼和浩特',\n",
       "              '香港',\n",
       "              '澳门'],\n",
       "             '重庆': ['兰州', '西宁', '成都', '拉萨', '贵阳', '西安', '呼和浩特', '南宁', '银川'],\n",
       "             '银川': ['兰州',\n",
       "              '西宁',\n",
       "              '成都',\n",
       "              '拉萨',\n",
       "              '贵阳',\n",
       "              '太原',\n",
       "              '西安',\n",
       "              '重庆',\n",
       "              '呼和浩特',\n",
       "              '南宁'],\n",
       "             '长春': ['沈阳', '哈尔滨'],\n",
       "             '长沙': ['石家庄',\n",
       "              '武汉',\n",
       "              '郑州',\n",
       "              '济南',\n",
       "              '南京',\n",
       "              '合肥',\n",
       "              '南昌',\n",
       "              '广州',\n",
       "              '太原',\n",
       "              '西安',\n",
       "              '北京',\n",
       "              '天津',\n",
       "              '呼和浩特',\n",
       "              '南宁',\n",
       "              '香港',\n",
       "              '澳门'],\n",
       "             '香港': ['武汉', '郑州', '合肥', '南昌', '福州', '广州', '长沙', '南宁', '澳门']})"
      ]
     },
     "execution_count": 37,
     "metadata": {},
     "output_type": "execute_result"
    }
   ],
   "source": [
    "cities_connection"
   ]
  },
  {
   "cell_type": "markdown",
   "metadata": {},
   "source": [
    "先建立一张图"
   ]
  },
  {
   "cell_type": "code",
   "execution_count": 38,
   "metadata": {},
   "outputs": [],
   "source": [
    "cities_connection_graph = nx.Graph(cities_connection) "
   ]
  },
  {
   "cell_type": "markdown",
   "metadata": {},
   "source": [
    "再把图给画出来"
   ]
  },
  {
   "cell_type": "code",
   "execution_count": 39,
   "metadata": {},
   "outputs": [
    {
     "data": {
      "image/png": "[encoded data removed]",
      "text/plain": [
       "<Figure size 432x288 with 1 Axes>"
      ]
     },
     "metadata": {},
     "output_type": "display_data"
    }
   ],
   "source": [
    "nx.draw(cities_connection_graph,city_location_info,with_labels=True,node_size=10) "
   ]
  },
  {
   "cell_type": "markdown",
   "metadata": {},
   "source": [
    "BFS"
   ]
  },
  {
   "cell_type": "code",
   "execution_count": 40,
   "metadata": {},
   "outputs": [],
   "source": [
    "def bfs(graph,startpoint,endpoint):\n",
    "    pathes = [[startpoint]]\n",
    "    visited = set()\n",
    "    \n",
    "    while pathes:\n",
    "        path = pathes.pop(0)\n",
    "        froniter = path[-1]\n",
    "        if froniter in visited:continue\n",
    "        successors = graph[froniter]\n",
    "        \n",
    "        for city in successors:\n",
    "            if city in path:continue\n",
    "            new_path = path + [city]\n",
    "            pathes.append(new_path)\n",
    "            \n",
    "            if city == endpoint:\n",
    "                return new_path\n",
    "        visited.add(froniter)"
   ]
  },
  {
   "cell_type": "code",
   "execution_count": 41,
   "metadata": {},
   "outputs": [
    {
     "data": {
      "text/plain": [
       "['沈阳', '上海', '合肥', '香港']"
      ]
     },
     "execution_count": 41,
     "metadata": {},
     "output_type": "execute_result"
    }
   ],
   "source": [
    "bfs(cities_connection,\"沈阳\",\"香港\")"
   ]
  },
  {
   "cell_type": "code",
   "execution_count": 42,
   "metadata": {},
   "outputs": [
    {
     "data": {
      "text/plain": [
       "['香港', '南宁', '拉萨']"
      ]
     },
     "execution_count": 42,
     "metadata": {},
     "output_type": "execute_result"
    }
   ],
   "source": [
    "bfs(cities_connection,\"香港\",\"拉萨\")"
   ]
  },
  {
   "cell_type": "markdown",
   "metadata": {},
   "source": [
    "DFS"
   ]
  },
  {
   "cell_type": "code",
   "execution_count": 43,
   "metadata": {},
   "outputs": [],
   "source": [
    "def dfs(graph,startpoint,endpoint):\n",
    "    pathes = [[startpoint]]\n",
    "    visited = set()\n",
    "    \n",
    "    while pathes:\n",
    "        path = pathes.pop(0)\n",
    "        froniter = path[-1]\n",
    "        if froniter in visited:continue\n",
    "        successors = graph[froniter]\n",
    "        \n",
    "        for city in successors:\n",
    "            if city in path:continue\n",
    "            new_path = path + [city]\n",
    "            pathes = [new_path] + pathes\n",
    "            \n",
    "            if city == endpoint:\n",
    "                return new_path\n",
    "        visited.add(froniter)"
   ]
  },
  {
   "cell_type": "code",
   "execution_count": 44,
   "metadata": {},
   "outputs": [
    {
     "data": {
      "text/plain": [
       "['香港', '澳门', '南宁', '拉萨']"
      ]
     },
     "execution_count": 44,
     "metadata": {},
     "output_type": "execute_result"
    }
   ],
   "source": [
    "dfs(cities_connection,\"香港\",\"拉萨\")"
   ]
  },
  {
   "cell_type": "code",
   "execution_count": 45,
   "metadata": {},
   "outputs": [
    {
     "data": {
      "text/plain": [
       "['拉萨', '银川', '西安']"
      ]
     },
     "execution_count": 45,
     "metadata": {},
     "output_type": "execute_result"
    }
   ],
   "source": [
    "dfs(cities_connection,\"拉萨\",\"西安\")"
   ]
  },
  {
   "cell_type": "code",
   "execution_count": 46,
   "metadata": {},
   "outputs": [
    {
     "data": {
      "text/plain": [
       "['沈阳', '上海', '天津', '呼和浩特', '银川', '南宁', '香港']"
      ]
     },
     "execution_count": 46,
     "metadata": {},
     "output_type": "execute_result"
    }
   ],
   "source": [
    "dfs(cities_connection,\"沈阳\",\"香港\")"
   ]
  },
  {
   "cell_type": "markdown",
   "metadata": {},
   "source": [
    "下面的代码将按照最短的里程数计算"
   ]
  },
  {
   "cell_type": "code",
   "execution_count": 47,
   "metadata": {},
   "outputs": [],
   "source": [
    "def bfs_up(graph,startpoint,endpoint,search_strategy):\n",
    "    pathes = [[startpoint]]\n",
    "   \n",
    "    while pathes:\n",
    "        path = pathes.pop(0)\n",
    "        froniter = path[-1]\n",
    "        \n",
    "        successors = graph[froniter]\n",
    "        \n",
    "        for city in successors:\n",
    "            if city in path:continue\n",
    "            new_path = path + [city]\n",
    "            pathes.append(new_path)\n",
    "            \n",
    "        pathes = search_strategy(pathes)\n",
    "        if pathes and pathes[0][-1]==endpoint:\n",
    "            return pathes[0]"
   ]
  },
  {
   "cell_type": "code",
   "execution_count": 48,
   "metadata": {},
   "outputs": [
    {
     "name": "stdout",
     "output_type": "stream",
     "text": [
      "0 1\n",
      "1 3\n",
      "2 4\n",
      "3 7\n",
      "4 8\n",
      "5 9\n",
      "6 9\n"
     ]
    }
   ],
   "source": [
    "for i,j in enumerate([1,3,4,7,8,9,9]):\n",
    "    print(i,j)"
   ]
  },
  {
   "cell_type": "code",
   "execution_count": 49,
   "metadata": {},
   "outputs": [
    {
     "name": "stdout",
     "output_type": "stream",
     "text": [
      "0\n",
      "1\n",
      "2\n",
      "3\n",
      "4\n"
     ]
    }
   ],
   "source": [
    "for i,_ in enumerate([1,3,5,7,9]):\n",
    "    print(i)"
   ]
  },
  {
   "cell_type": "code",
   "execution_count": 50,
   "metadata": {},
   "outputs": [],
   "source": [
    "def sort_by_distance(pathes):\n",
    "    def get_distance_of_path(path):\n",
    "        distance = 0\n",
    "        for i,_ in enumerate(path[:-1]):\n",
    "            distance += get_city_distance(path[i],path[i+1])\n",
    "        return distance\n",
    "    return sorted(pathes,key = get_distance_of_path)"
   ]
  },
  {
   "cell_type": "code",
   "execution_count": 51,
   "metadata": {},
   "outputs": [
    {
     "data": {
      "text/plain": [
       "['沈阳', '上海', '福州', '香港']"
      ]
     },
     "execution_count": 51,
     "metadata": {},
     "output_type": "execute_result"
    }
   ],
   "source": [
    "bfs_up(cities_connection,\"沈阳\",\"香港\",search_strategy=sort_by_distance)"
   ]
  },
  {
   "cell_type": "code",
   "execution_count": 52,
   "metadata": {},
   "outputs": [],
   "source": [
    "def get_distance_of_path(path):\n",
    "    distance = 0\n",
    "    for i,_ in enumerate(path[:-1]):\n",
    "        distance += get_city_distance(path[i],path[i+1])\n",
    "    return distance"
   ]
  },
  {
   "cell_type": "code",
   "execution_count": 53,
   "metadata": {},
   "outputs": [
    {
     "data": {
      "text/plain": [
       "752.66259009181"
      ]
     },
     "execution_count": 53,
     "metadata": {},
     "output_type": "execute_result"
    }
   ],
   "source": [
    "get_distance_of_path([\"北京\",\"济南\",\"上海\"])"
   ]
  },
  {
   "cell_type": "code",
   "execution_count": 54,
   "metadata": {},
   "outputs": [
    {
     "data": {
      "text/plain": [
       "732.5085345714293"
      ]
     },
     "execution_count": 54,
     "metadata": {},
     "output_type": "execute_result"
    }
   ],
   "source": [
    "get_distance_of_path([\"北京\",\"天津\",\"上海\"])"
   ]
  },
  {
   "cell_type": "code",
   "execution_count": 55,
   "metadata": {},
   "outputs": [
    {
     "data": {
      "text/plain": [
       "['北京', '天津', '上海']"
      ]
     },
     "execution_count": 55,
     "metadata": {},
     "output_type": "execute_result"
    }
   ],
   "source": [
    "bfs_up(cities_connection,\"北京\",\"上海\",search_strategy=sort_by_distance)"
   ]
  },
  {
   "cell_type": "code",
   "execution_count": 56,
   "metadata": {},
   "outputs": [
    {
     "data": {
      "text/plain": [
       "['北京', '济南', '上海']"
      ]
     },
     "execution_count": 56,
     "metadata": {},
     "output_type": "execute_result"
    }
   ],
   "source": [
    "bfs(cities_connection,\"北京\",\"上海\")"
   ]
  },
  {
   "cell_type": "markdown",
   "metadata": {},
   "source": [
    "search_strategy可以是距离，也可以是城市之间交通工具的时间或者是车/机票的价钱等"
   ]
  },
  {
   "cell_type": "markdown",
   "metadata": {},
   "source": [
    "Machine Learning 波士顿房价"
   ]
  },
  {
   "cell_type": "code",
   "execution_count": 57,
   "metadata": {},
   "outputs": [],
   "source": [
    "from sklearn.datasets import load_boston\n",
    "import random"
   ]
  },
  {
   "cell_type": "code",
   "execution_count": 58,
   "metadata": {},
   "outputs": [],
   "source": [
    "dataset = load_boston()"
   ]
  },
  {
   "cell_type": "code",
   "execution_count": 59,
   "metadata": {},
   "outputs": [
    {
     "data": {
      "text/plain": [
       "{'DESCR': \".. _boston_dataset:\\n\\nBoston house prices dataset\\n---------------------------\\n\\n**Data Set Characteristics:**  \\n\\n    :Number of Instances: 506 \\n\\n    :Number of Attributes: 13 numeric/categorical predictive. Median Value (attribute 14) is usually the target.\\n\\n    :Attribute Information (in order):\\n        - CRIM     per capita crime rate by town\\n        - ZN       proportion of residential land zoned for lots over 25,000 sq.ft.\\n        - INDUS    proportion of non-retail business acres per town\\n        - CHAS     Charles River dummy variable (= 1 if tract bounds river; 0 otherwise)\\n        - NOX      nitric oxides concentration (parts per 10 million)\\n        - RM       average number of rooms per dwelling\\n        - AGE      proportion of owner-occupied units built prior to 1940\\n        - DIS      weighted distances to five Boston employment centres\\n        - RAD      index of accessibility to radial highways\\n        - TAX      full-value property-tax rate per $10,000\\n        - PTRATIO  pupil-teacher ratio by town\\n        - B        1000(Bk - 0.63)^2 where Bk is the proportion of blacks by town\\n        - LSTAT    % lower status of the population\\n        - MEDV     Median value of owner-occupied homes in $1000's\\n\\n    :Missing Attribute Values: None\\n\\n    :Creator: Harrison, D. and Rubinfeld, D.L.\\n\\nThis is a copy of UCI ML housing dataset.\\nhttps://archive.ics.uci.edu/ml/machine-learning-databases/housing/\\n\\n\\nThis dataset was taken from the StatLib library which is maintained at Carnegie Mellon University.\\n\\nThe Boston house-price data of Harrison, D. and Rubinfeld, D.L. 'Hedonic\\nprices and the demand for clean air', J. Environ. Economics & Management,\\nvol.5, 81-102, 1978.   Used in Belsley, Kuh & Welsch, 'Regression diagnostics\\n...', Wiley, 1980.   N.B. Various transformations are used in the table on\\npages 244-261 of the latter.\\n\\nThe Boston house-price data has been used in many machine learning papers that address regression\\nproblems.   \\n     \\n.. topic:: References\\n\\n   - Belsley, Kuh & Welsch, 'Regression diagnostics: Identifying Influential Data and Sources of Collinearity', Wiley, 1980. 244-261.\\n   - Quinlan,R. (1993). Combining Instance-Based and Model-Based Learning. In Proceedings on the Tenth International Conference of Machine Learning, 236-243, University of Massachusetts, Amherst. Morgan Kaufmann.\\n\",\n",
       " 'data': array([[6.3200e-03, 1.8000e+01, 2.3100e+00, ..., 1.5300e+01, 3.9690e+02,\n",
       "         4.9800e+00],\n",
       "        [2.7310e-02, 0.0000e+00, 7.0700e+00, ..., 1.7800e+01, 3.9690e+02,\n",
       "         9.1400e+00],\n",
       "        [2.7290e-02, 0.0000e+00, 7.0700e+00, ..., 1.7800e+01, 3.9283e+02,\n",
       "         4.0300e+00],\n",
       "        ...,\n",
       "        [6.0760e-02, 0.0000e+00, 1.1930e+01, ..., 2.1000e+01, 3.9690e+02,\n",
       "         5.6400e+00],\n",
       "        [1.0959e-01, 0.0000e+00, 1.1930e+01, ..., 2.1000e+01, 3.9345e+02,\n",
       "         6.4800e+00],\n",
       "        [4.7410e-02, 0.0000e+00, 1.1930e+01, ..., 2.1000e+01, 3.9690e+02,\n",
       "         7.8800e+00]]),\n",
       " 'feature_names': array(['CRIM', 'ZN', 'INDUS', 'CHAS', 'NOX', 'RM', 'AGE', 'DIS', 'RAD',\n",
       "        'TAX', 'PTRATIO', 'B', 'LSTAT'], dtype='<U7'),\n",
       " 'filename': 'D:\\\\NLP\\\\venv\\\\lib\\\\site-packages\\\\sklearn\\\\datasets\\\\data\\\\boston_house_prices.csv',\n",
       " 'target': array([24. , 21.6, 34.7, 33.4, 36.2, 28.7, 22.9, 27.1, 16.5, 18.9, 15. ,\n",
       "        18.9, 21.7, 20.4, 18.2, 19.9, 23.1, 17.5, 20.2, 18.2, 13.6, 19.6,\n",
       "        15.2, 14.5, 15.6, 13.9, 16.6, 14.8, 18.4, 21. , 12.7, 14.5, 13.2,\n",
       "        13.1, 13.5, 18.9, 20. , 21. , 24.7, 30.8, 34.9, 26.6, 25.3, 24.7,\n",
       "        21.2, 19.3, 20. , 16.6, 14.4, 19.4, 19.7, 20.5, 25. , 23.4, 18.9,\n",
       "        35.4, 24.7, 31.6, 23.3, 19.6, 18.7, 16. , 22.2, 25. , 33. , 23.5,\n",
       "        19.4, 22. , 17.4, 20.9, 24.2, 21.7, 22.8, 23.4, 24.1, 21.4, 20. ,\n",
       "        20.8, 21.2, 20.3, 28. , 23.9, 24.8, 22.9, 23.9, 26.6, 22.5, 22.2,\n",
       "        23.6, 28.7, 22.6, 22. , 22.9, 25. , 20.6, 28.4, 21.4, 38.7, 43.8,\n",
       "        33.2, 27.5, 26.5, 18.6, 19.3, 20.1, 19.5, 19.5, 20.4, 19.8, 19.4,\n",
       "        21.7, 22.8, 18.8, 18.7, 18.5, 18.3, 21.2, 19.2, 20.4, 19.3, 22. ,\n",
       "        20.3, 20.5, 17.3, 18.8, 21.4, 15.7, 16.2, 18. , 14.3, 19.2, 19.6,\n",
       "        23. , 18.4, 15.6, 18.1, 17.4, 17.1, 13.3, 17.8, 14. , 14.4, 13.4,\n",
       "        15.6, 11.8, 13.8, 15.6, 14.6, 17.8, 15.4, 21.5, 19.6, 15.3, 19.4,\n",
       "        17. , 15.6, 13.1, 41.3, 24.3, 23.3, 27. , 50. , 50. , 50. , 22.7,\n",
       "        25. , 50. , 23.8, 23.8, 22.3, 17.4, 19.1, 23.1, 23.6, 22.6, 29.4,\n",
       "        23.2, 24.6, 29.9, 37.2, 39.8, 36.2, 37.9, 32.5, 26.4, 29.6, 50. ,\n",
       "        32. , 29.8, 34.9, 37. , 30.5, 36.4, 31.1, 29.1, 50. , 33.3, 30.3,\n",
       "        34.6, 34.9, 32.9, 24.1, 42.3, 48.5, 50. , 22.6, 24.4, 22.5, 24.4,\n",
       "        20. , 21.7, 19.3, 22.4, 28.1, 23.7, 25. , 23.3, 28.7, 21.5, 23. ,\n",
       "        26.7, 21.7, 27.5, 30.1, 44.8, 50. , 37.6, 31.6, 46.7, 31.5, 24.3,\n",
       "        31.7, 41.7, 48.3, 29. , 24. , 25.1, 31.5, 23.7, 23.3, 22. , 20.1,\n",
       "        22.2, 23.7, 17.6, 18.5, 24.3, 20.5, 24.5, 26.2, 24.4, 24.8, 29.6,\n",
       "        42.8, 21.9, 20.9, 44. , 50. , 36. , 30.1, 33.8, 43.1, 48.8, 31. ,\n",
       "        36.5, 22.8, 30.7, 50. , 43.5, 20.7, 21.1, 25.2, 24.4, 35.2, 32.4,\n",
       "        32. , 33.2, 33.1, 29.1, 35.1, 45.4, 35.4, 46. , 50. , 32.2, 22. ,\n",
       "        20.1, 23.2, 22.3, 24.8, 28.5, 37.3, 27.9, 23.9, 21.7, 28.6, 27.1,\n",
       "        20.3, 22.5, 29. , 24.8, 22. , 26.4, 33.1, 36.1, 28.4, 33.4, 28.2,\n",
       "        22.8, 20.3, 16.1, 22.1, 19.4, 21.6, 23.8, 16.2, 17.8, 19.8, 23.1,\n",
       "        21. , 23.8, 23.1, 20.4, 18.5, 25. , 24.6, 23. , 22.2, 19.3, 22.6,\n",
       "        19.8, 17.1, 19.4, 22.2, 20.7, 21.1, 19.5, 18.5, 20.6, 19. , 18.7,\n",
       "        32.7, 16.5, 23.9, 31.2, 17.5, 17.2, 23.1, 24.5, 26.6, 22.9, 24.1,\n",
       "        18.6, 30.1, 18.2, 20.6, 17.8, 21.7, 22.7, 22.6, 25. , 19.9, 20.8,\n",
       "        16.8, 21.9, 27.5, 21.9, 23.1, 50. , 50. , 50. , 50. , 50. , 13.8,\n",
       "        13.8, 15. , 13.9, 13.3, 13.1, 10.2, 10.4, 10.9, 11.3, 12.3,  8.8,\n",
       "         7.2, 10.5,  7.4, 10.2, 11.5, 15.1, 23.2,  9.7, 13.8, 12.7, 13.1,\n",
       "        12.5,  8.5,  5. ,  6.3,  5.6,  7.2, 12.1,  8.3,  8.5,  5. , 11.9,\n",
       "        27.9, 17.2, 27.5, 15. , 17.2, 17.9, 16.3,  7. ,  7.2,  7.5, 10.4,\n",
       "         8.8,  8.4, 16.7, 14.2, 20.8, 13.4, 11.7,  8.3, 10.2, 10.9, 11. ,\n",
       "         9.5, 14.5, 14.1, 16.1, 14.3, 11.7, 13.4,  9.6,  8.7,  8.4, 12.8,\n",
       "        10.5, 17.1, 18.4, 15.4, 10.8, 11.8, 14.9, 12.6, 14.1, 13. , 13.4,\n",
       "        15.2, 16.1, 17.8, 14.9, 14.1, 12.7, 13.5, 14.9, 20. , 16.4, 17.7,\n",
       "        19.5, 20.2, 21.4, 19.9, 19. , 19.1, 19.1, 20.1, 19.9, 19.6, 23.2,\n",
       "        29.8, 13.8, 13.3, 16.7, 12. , 14.6, 21.4, 23. , 23.7, 25. , 21.8,\n",
       "        20.6, 21.2, 19.1, 20.6, 15.2,  7. ,  8.1, 13.6, 20.1, 21.8, 24.5,\n",
       "        23.1, 19.7, 18.3, 21.2, 17.5, 16.8, 22.4, 20.6, 23.9, 22. , 11.9])}"
      ]
     },
     "execution_count": 59,
     "metadata": {},
     "output_type": "execute_result"
    }
   ],
   "source": [
    "dataset"
   ]
  },
  {
   "cell_type": "code",
   "execution_count": 60,
   "metadata": {},
   "outputs": [],
   "source": [
    "x,y=dataset['data'],dataset['target']"
   ]
  },
  {
   "cell_type": "code",
   "execution_count": 61,
   "metadata": {},
   "outputs": [
    {
     "data": {
      "text/plain": [
       "(506, 13)"
      ]
     },
     "execution_count": 61,
     "metadata": {},
     "output_type": "execute_result"
    }
   ],
   "source": [
    "x.shape"
   ]
  },
  {
   "cell_type": "code",
   "execution_count": 62,
   "metadata": {},
   "outputs": [
    {
     "data": {
      "text/plain": [
       "(506,)"
      ]
     },
     "execution_count": 62,
     "metadata": {},
     "output_type": "execute_result"
    }
   ],
   "source": [
    "y.shape"
   ]
  },
  {
   "cell_type": "code",
   "execution_count": 63,
   "metadata": {},
   "outputs": [
    {
     "data": {
      "text/plain": [
       "array([2.7310e-02, 0.0000e+00, 7.0700e+00, 0.0000e+00, 4.6900e-01,\n",
       "       6.4210e+00, 7.8900e+01, 4.9671e+00, 2.0000e+00, 2.4200e+02,\n",
       "       1.7800e+01, 3.9690e+02, 9.1400e+00])"
      ]
     },
     "execution_count": 63,
     "metadata": {},
     "output_type": "execute_result"
    }
   ],
   "source": [
    "x[1].shape\n",
    "x[1]"
   ]
  },
  {
   "cell_type": "code",
   "execution_count": 64,
   "metadata": {},
   "outputs": [
    {
     "data": {
      "text/plain": [
       "array(['CRIM', 'ZN', 'INDUS', 'CHAS', 'NOX', 'RM', 'AGE', 'DIS', 'RAD',\n",
       "       'TAX', 'PTRATIO', 'B', 'LSTAT'], dtype='<U7')"
      ]
     },
     "execution_count": 64,
     "metadata": {},
     "output_type": "execute_result"
    }
   ],
   "source": [
    "dataset.feature_names"
   ]
  },
  {
   "cell_type": "code",
   "execution_count": 65,
   "metadata": {},
   "outputs": [
    {
     "data": {
      "text/plain": [
       "\".. _boston_dataset:\\n\\nBoston house prices dataset\\n---------------------------\\n\\n**Data Set Characteristics:**  \\n\\n    :Number of Instances: 506 \\n\\n    :Number of Attributes: 13 numeric/categorical predictive. Median Value (attribute 14) is usually the target.\\n\\n    :Attribute Information (in order):\\n        - CRIM     per capita crime rate by town\\n        - ZN       proportion of residential land zoned for lots over 25,000 sq.ft.\\n        - INDUS    proportion of non-retail business acres per town\\n        - CHAS     Charles River dummy variable (= 1 if tract bounds river; 0 otherwise)\\n        - NOX      nitric oxides concentration (parts per 10 million)\\n        - RM       average number of rooms per dwelling\\n        - AGE      proportion of owner-occupied units built prior to 1940\\n        - DIS      weighted distances to five Boston employment centres\\n        - RAD      index of accessibility to radial highways\\n        - TAX      full-value property-tax rate per $10,000\\n        - PTRATIO  pupil-teacher ratio by town\\n        - B        1000(Bk - 0.63)^2 where Bk is the proportion of blacks by town\\n        - LSTAT    % lower status of the population\\n        - MEDV     Median value of owner-occupied homes in $1000's\\n\\n    :Missing Attribute Values: None\\n\\n    :Creator: Harrison, D. and Rubinfeld, D.L.\\n\\nThis is a copy of UCI ML housing dataset.\\nhttps://archive.ics.uci.edu/ml/machine-learning-databases/housing/\\n\\n\\nThis dataset was taken from the StatLib library which is maintained at Carnegie Mellon University.\\n\\nThe Boston house-price data of Harrison, D. and Rubinfeld, D.L. 'Hedonic\\nprices and the demand for clean air', J. Environ. Economics & Management,\\nvol.5, 81-102, 1978.   Used in Belsley, Kuh & Welsch, 'Regression diagnostics\\n...', Wiley, 1980.   N.B. Various transformations are used in the table on\\npages 244-261 of the latter.\\n\\nThe Boston house-price data has been used in many machine learning papers that address regression\\nproblems.   \\n     \\n.. topic:: References\\n\\n   - Belsley, Kuh & Welsch, 'Regression diagnostics: Identifying Influential Data and Sources of Collinearity', Wiley, 1980. 244-261.\\n   - Quinlan,R. (1993). Combining Instance-Based and Model-Based Learning. In Proceedings on the Tenth International Conference of Machine Learning, 236-243, University of Massachusetts, Amherst. Morgan Kaufmann.\\n\""
      ]
     },
     "execution_count": 65,
     "metadata": {},
     "output_type": "execute_result"
    }
   ],
   "source": [
    "dataset['DESCR']"
   ]
  },
  {
   "cell_type": "markdown",
   "metadata": {},
   "source": [
    "取第五个特征RM，从0数起，到5"
   ]
  },
  {
   "cell_type": "code",
   "execution_count": 66,
   "metadata": {},
   "outputs": [],
   "source": [
    "X_rm=x[:,5]"
   ]
  },
  {
   "cell_type": "code",
   "execution_count": 67,
   "metadata": {},
   "outputs": [
    {
     "data": {
      "text/plain": [
       "(506,)"
      ]
     },
     "execution_count": 67,
     "metadata": {},
     "output_type": "execute_result"
    }
   ],
   "source": [
    "X_rm.shape"
   ]
  },
  {
   "cell_type": "markdown",
   "metadata": {},
   "source": [
    "横轴为房间数，纵轴为房价"
   ]
  },
  {
   "cell_type": "code",
   "execution_count": 68,
   "metadata": {},
   "outputs": [
    {
     "data": {
      "text/plain": [
       "<matplotlib.collections.PathCollection at 0x12806a90>"
      ]
     },
     "execution_count": 68,
     "metadata": {},
     "output_type": "execute_result"
    },
    {
     "data": {
      "image/png": "[encoded data removed]",
      "text/plain": [
       "<Figure size 432x288 with 1 Axes>"
      ]
     },
     "metadata": {
      "needs_background": "light"
     },
     "output_type": "display_data"
    }
   ],
   "source": [
    "plt.scatter(X_rm,y)"
   ]
  },
  {
   "cell_type": "markdown",
   "metadata": {},
   "source": [
    "梯度下降\n",
    "定义目标函数为线性函数"
   ]
  },
  {
   "cell_type": "markdown",
   "metadata": {},
   "source": [
    "$$y=k*rm+b$$"
   ]
  },
  {
   "cell_type": "code",
   "execution_count": 69,
   "metadata": {},
   "outputs": [],
   "source": [
    "def price(rm,k,b):\n",
    "    return k*rm+b"
   ]
  },
  {
   "cell_type": "markdown",
   "metadata": {},
   "source": [
    "定义square loss"
   ]
  },
  {
   "cell_type": "markdown",
   "metadata": {},
   "source": [
    "$$ loss = \\frac{1}{n}\\sum{(y_i-\\hat{y_i})}^2$$"
   ]
  },
  {
   "cell_type": "markdown",
   "metadata": {},
   "source": [
    "$$ loss = \\frac{1}{n}\\sum{(y_i-(kx_i+b_i)}^2$$"
   ]
  },
  {
   "cell_type": "markdown",
   "metadata": {},
   "source": [
    "定义loss函数\n",
    "y为真实值\n",
    "y_hat为预测值（通过price函数预测出的y值）\n",
    "len(list(y))为样本数量"
   ]
  },
  {
   "cell_type": "code",
   "execution_count": 70,
   "metadata": {},
   "outputs": [],
   "source": [
    "def loss(y,y_hat):\n",
    "    return sum((y_i-y_hat_i)**2 for y_i,y_hat_i in zip(list(y),list(y_hat)))/len(list(y))"
   ]
  },
  {
   "cell_type": "markdown",
   "metadata": {},
   "source": [
    "梯度下降需要求梯度值"
   ]
  },
  {
   "cell_type": "markdown",
   "metadata": {},
   "source": [
    "$$\\frac{\\partial{loss}}{\\partial{k}} = -\\frac{2}{n}\\sum(y_i-\\hat{y_i})x_i$$"
   ]
  },
  {
   "cell_type": "markdown",
   "metadata": {},
   "source": [
    "$$\\frac{\\partial{loss}}{\\partial{b}} = -\\frac{2}{n}\\sum(y_i-\\hat{y_i})$$"
   ]
  },
  {
   "cell_type": "markdown",
   "metadata": {},
   "source": [
    "定义梯度函数"
   ]
  },
  {
   "cell_type": "code",
   "execution_count": 75,
   "metadata": {},
   "outputs": [],
   "source": [
    "def partial_derivative_k(x,y,y_hat):\n",
    "    n = len(y)\n",
    "    gradient = 0\n",
    "    for x_i,y_i,y_hat_i in zip(list(x),list(y),list(y_hat)):\n",
    "        gradient += (y_i - y_hat_i) * x_i\n",
    "    return -2/n * gradient"
   ]
  },
  {
   "cell_type": "code",
   "execution_count": 76,
   "metadata": {},
   "outputs": [],
   "source": [
    "def partial_derivative_b(y,y_hat):\n",
    "    n = len(y)\n",
    "    gradient = 0\n",
    "    for y_i,y_hat_i in zip(list(y),list(y_hat)):\n",
    "        gradient += y_i - y_hat_i\n",
    "    return -2/n * gradient"
   ]
  },
  {
   "cell_type": "markdown",
   "metadata": {},
   "source": [
    "初始化参数"
   ]
  },
  {
   "cell_type": "code",
   "execution_count": 81,
   "metadata": {},
   "outputs": [
    {
     "name": "stdout",
     "output_type": "stream",
     "text": [
      "Iteration is 0, the Loss is 1473.9108173576465, parameter k is 8.759773782903022 and b is 5.299510359881319\n",
      "Iteration is 1, the Loss is 1252.0302969486775, parameter k is 8.28475796842149 and b is 5.223873000726868\n",
      "Iteration is 2, the Loss is 1065.0276208390187, parameter k is 7.848683983426323 and b is 5.154357517735178\n",
      "Iteration is 3, the Loss is 907.4202483629188, parameter k is 7.448360365491022 and b is 5.090462196832533\n",
      "Iteration is 4, the Loss is 774.5874539350278, parameter k is 7.080857207221966 and b is 5.031726441722383\n",
      "Iteration is 5, the Loss is 662.6348560565518, parameter k is 6.743484720619795 and b is 4.97772740409429\n",
      "Iteration is 6, the Loss is 568.2802413655323, parameter k is 6.433773558190034 and b is 4.928076890002746\n",
      "Iteration is 7, the Loss is 488.7573363069195, parameter k is 6.149456746829252 and b is 4.88241851978249\n",
      "Iteration is 8, the Loss is 421.73470518854106, parameter k is 5.888453102312395 and b is 4.840425120721836\n",
      "Iteration is 9, the Loss is 365.24739686635826, parameter k is 5.648852003039211 and b is 4.801796333418412\n",
      "Iteration is 10, the Loss is 317.6393360681997, parameter k is 5.428899411642221 and b is 4.766256414305074\n",
      "Iteration is 11, the Loss is 277.51477037782047, parameter k is 5.226985042188247 and b is 4.733552218268924\n",
      "Iteration is 12, the Loss is 243.69734939606155, parameter k is 5.0416305790868305 and b is 4.7034513466039884\n",
      "Iteration is 13, the Loss is 215.19563635699362, parameter k is 4.871478861513327 and b is 4.675740446747695\n",
      "Iteration is 14, the Loss is 191.1740410644133, parameter k is 4.715283954218291 and b is 4.650223651361773\n",
      "Iteration is 15, the Loss is 170.92832195699694, parameter k is 4.571902032079737 and b is 4.626721145337654\n",
      "Iteration is 16, the Loss is 153.86493906868506, parameter k is 4.44028301170828 and b is 4.605067850242376\n",
      "Iteration is 17, the Loss is 139.48365255187636, parameter k is 4.319462868880757 and b is 4.585112216580201\n",
      "Iteration is 18, the Loss is 127.36285658482761, parameter k is 4.208556585595514 and b is 4.566715115033948\n",
      "Iteration is 19, the Loss is 117.14721868097276, parameter k is 4.106751675148964 and b is 4.549748818574202\n",
      "Iteration is 20, the Loss is 108.53726200792966, parameter k is 4.013302237861929 and b is 4.534096067989364\n",
      "Iteration is 21, the Loss is 101.2805852893609, parameter k is 3.9275235039665533 and b is 4.519649213999801\n",
      "Iteration is 22, the Loss is 95.16446287370228, parameter k is 3.8487868237287564 and b is 4.5063094296797015\n",
      "Iteration is 23, the Loss is 90.009608017677, parameter k is 3.7765150681532 and b is 4.493985987424579\n",
      "Iteration is 24, the Loss is 85.66491653578434, parameter k is 3.710178406621652 and b is 4.482595595174615\n",
      "Iteration is 25, the Loss is 82.00303670943822, parameter k is 3.6492904305733163 and b is 4.472061787037559\n",
      "Iteration is 26, the Loss is 78.91663557381737, parameter k is 3.5934045948674 and b is 4.462314363852875\n",
      "Iteration is 27, the Loss is 76.31525211696773, parameter k is 3.5421109507923925 and b is 4.453288879604248\n",
      "Iteration is 28, the Loss is 74.1226451328684, parameter k is 3.495033146820271 and b is 4.4449261699229305\n",
      "Iteration is 29, the Loss is 72.27455797249542, parameter k is 3.4518256751626994 and b is 4.437171919232424\n",
      "Iteration is 30, the Loss is 70.71683465958192, parameter k is 3.412171343984621 and b is 4.429976263367638\n",
      "Iteration is 31, the Loss is 69.40383213912943, parameter k is 3.3757789567815757 and b is 4.42329342476124\n",
      "Iteration is 32, the Loss is 68.29708210877884, parameter k is 3.3423811819427285 and b is 4.417081377528162\n",
      "Iteration is 33, the Loss is 67.36416320045043, parameter k is 3.3117325969130125 and b is 4.411301539997978\n",
      "Iteration is 34, the Loss is 66.57775044673679, parameter k is 3.283607892645183 and b is 4.4059184924456565\n",
      "Iteration is 35, the Loss is 65.91481416419055, parameter k is 3.2578002252052896 and b is 4.400899717955591\n",
      "Iteration is 36, the Loss is 65.35594476626848, parameter k is 3.2341197024716655 and b is 4.396215364523006\n",
      "Iteration is 37, the Loss is 64.88478371071574, parameter k is 3.2123919948559 and b is 4.391838026652251\n",
      "Iteration is 38, the Loss is 64.4875438978382, parameter k is 3.19245705988162 and b is 4.387742544854118\n",
      "Iteration is 39, the Loss is 64.15260545863866, parameter k is 3.1741679712899082 and b is 4.383905821575278\n",
      "Iteration is 40, the Loss is 63.870175082086824, parameter k is 3.157389844104923 and b is 4.380306652213151\n",
      "Iteration is 41, the Loss is 63.631998893637714, parameter k is 3.141998847795337 and b is 4.376925569979872\n",
      "Iteration is 42, the Loss is 63.43112046713484, parameter k is 3.127881300311737 and b is 4.373744703480385\n",
      "Iteration is 43, the Loss is 63.26167687546363, parameter k is 3.1149328363718274 and b is 4.370747645962658\n",
      "Iteration is 44, the Loss is 63.11872680054262, parameter k is 3.1030576439084894 and b is 4.367919335283447\n",
      "Iteration is 45, the Loss is 62.99810566315958, parameter k is 3.0921677630944364 and b is 4.365245943711417\n",
      "Iteration is 46, the Loss is 62.896303525332506, parameter k is 3.0821824428150233 and b is 4.362714776761408\n",
      "Iteration is 47, the Loss is 62.81036218552208, parameter k is 3.0730275498810715 and b is 4.360314180319691\n",
      "Iteration is 48, the Loss is 62.73778844971907, parameter k is 3.064635026659422 and b is 4.35803345538075\n",
      "Iteration is 49, the Loss is 62.676481035680624, parameter k is 3.0569423931531583 and b is 4.355862779771757\n",
      "Iteration is 50, the Loss is 62.62466896728137, parameter k is 3.0498922898886502 and b is 4.353793136292107\n",
      "Iteration is 51, the Loss is 62.58085965282084, parameter k is 3.043432058265105 and b is 4.351816246742238\n",
      "Iteration is 52, the Loss is 62.54379512503892, parameter k is 3.0375133552964044 and b is 4.349924511359091\n",
      "Iteration is 53, the Loss is 62.51241515987856, parameter k is 3.0320917999266244 and b is 4.348110953215122\n",
      "Iteration is 54, the Loss is 62.48582619270877, parameter k is 3.0271266483316195 and b is 4.3463691671740605\n",
      "Iteration is 55, the Loss is 62.46327512068783, parameter k is 3.0225804958311424 and b is 4.344693273029986\n",
      "Iteration is 56, the Loss is 62.4441272232031, parameter k is 3.018419003230635 and b is 4.343077872486869\n",
      "Iteration is 57, the Loss is 62.42784755305468, parameter k is 3.0146106455905675 and b is 4.3415180096638375\n",
      "Iteration is 58, the Loss is 62.413985252809056, parameter k is 3.011126481585288 and b is 4.340009134837221\n",
      "Iteration is 59, the Loss is 62.4021603365057, parameter k is 3.007939941763977 and b is 4.338547071154094\n",
      "Iteration is 60, the Loss is 62.39205254918275, parameter k is 3.005026634164588 and b is 4.33712798407381\n",
      "Iteration is 61, the Loss is 62.38339197760329, parameter k is 3.002364165858622 and b is 4.335748353313926\n",
      "Iteration is 62, the Loss is 62.37595113690633, parameter k is 2.9999319791211296 and b is 4.334404947095304\n",
      "Iteration is 63, the Loss is 62.36953830117799, parameter k is 2.9977112010273337 and b is 4.333094798497933\n",
      "Iteration is 64, the Loss is 62.36399188240793, parameter k is 2.995684505375502 and b is 4.3318151837545065\n",
      "Iteration is 65, the Loss is 62.35917569303275, parameter k is 2.993835985925877 and b is 4.330563602322939\n",
      "Iteration is 66, the Loss is 62.35497495317209, parameter k is 2.9921510400282556 and b is 4.3293377585920325\n",
      "Iteration is 67, the Loss is 62.35129292549878, parameter k is 2.9906162617868266 and b is 4.328135545086446\n",
      "Iteration is 68, the Loss is 62.34804807908157, parameter k is 2.989219343980641 and b is 4.326955027048096\n",
      "Iteration is 69, the Loss is 62.3451716990521, parameter k is 2.987948988022152 and b is 4.325794428281186\n",
      "Iteration is 70, the Loss is 62.342605872013394, parameter k is 2.9867948212950637 and b is 4.324652118157291\n",
      "Iteration is 71, the Loss is 62.34030178812853, parameter k is 2.9857473212667283 and b is 4.323526599685447\n",
      "Iteration is 72, the Loss is 62.33821831010773, parameter k is 2.984797745819877 and b is 4.322416498559945\n",
      "Iteration is 73, the Loss is 62.33632076714039, parameter k is 2.9839380692939894 and b is 4.321320553105707\n",
      "Iteration is 74, the Loss is 62.33457993841192, parameter k is 2.983160923768366 and b is 4.320237605047691\n",
      "Iteration is 75, the Loss is 62.332971196404706, parameter k is 2.9824595451573224 and b is 4.31916659103678\n",
      "Iteration is 76, the Loss is 62.331473784865615, parameter k is 2.9818277237231308 and b is 4.318106534870165\n",
      "Iteration is 77, the Loss is 62.330070210271266, parameter k is 2.9812597586446543 and b is 4.3170565403493075\n",
      "Iteration is 78, the Loss is 62.32874572895145, parameter k is 2.9807504163092906 and b is 4.316015784723218\n",
      "Iteration is 79, the Loss is 62.32748791483214, parameter k is 2.9802948920230814 and b is 4.314983512669092\n",
      "Iteration is 80, the Loss is 62.32628629512643, parameter k is 2.979888774858857 and b is 4.313959030766261\n",
      "Iteration is 81, the Loss is 62.325132043292015, parameter k is 2.9795280153852346 and b is 4.312941702423027\n",
      "Iteration is 82, the Loss is 62.32401772025401, parameter k is 2.979208896040376 and b is 4.311930943219266\n",
      "Iteration is 83, the Loss is 62.3229370563051, parameter k is 2.9789280039337505 and b is 4.310926216630729\n",
      "Iteration is 84, the Loss is 62.321884767289426, parameter k is 2.9786822058769196 and b is 4.309927030103754\n",
      "Iteration is 85, the Loss is 62.320856399681254, parameter k is 2.978468625460663 and b is 4.308932931451674\n",
      "Iteration is 86, the Loss is 62.31984820001606, parameter k is 2.9782846220107406 and b is 4.307943505546556\n",
      "Iteration is 87, the Loss is 62.318857004846066, parameter k is 2.9781277712683245 and b is 4.3069583712820645\n",
      "Iteration is 88, the Loss is 62.317880147993776, parameter k is 2.9779958476537622 and b is 4.305977178785241\n",
      "Iteration is 89, the Loss is 62.31691538238497, parameter k is 2.9778868079839023 and b is 4.30499960685678\n",
      "Iteration is 90, the Loss is 62.315960814168506, parameter k is 2.977798776523862 and b is 4.304025360621094\n",
      "Iteration is 91, the Loss is 62.31501484719264, parameter k is 2.9777300312638717 and b is 4.303054169368961\n",
      "Iteration is 92, the Loss is 62.314076136208364, parameter k is 2.977678991320794 and b is 4.302085784576982\n",
      "Iteration is 93, the Loss is 62.31314354742966, parameter k is 2.977644205372146 and b is 4.30111997808935\n",
      "Iteration is 94, the Loss is 62.312216125293155, parameter k is 2.97762434103801 and b is 4.300156540448631\n",
      "Iteration is 95, the Loss is 62.31129306444253, parameter k is 2.9776181751331388 and b is 4.2991952793633486\n",
      "Iteration is 96, the Loss is 62.31037368611726, parameter k is 2.9776245847179537 and b is 4.298236018301153\n",
      "Iteration is 97, the Loss is 62.30945741825265, parameter k is 2.9776425388829493 and b is 4.2972785951972865\n",
      "Iteration is 98, the Loss is 62.308543778708156, parameter k is 2.9776710912064046 and b is 4.296322861268902\n",
      "Iteration is 99, the Loss is 62.30763236113165, parameter k is 2.9777093728302213 and b is 4.295368679926548\n",
      "Iteration is 100, the Loss is 62.306722823046435, parameter k is 2.977756586103228 and b is 4.294415925774859\n",
      "Iteration is 101, the Loss is 62.30581487581017, parameter k is 2.977811998745444 and b is 4.293464483695156\n",
      "Iteration is 102, the Loss is 62.304908276152766, parameter k is 2.977874938490611 and b is 4.292514248003219\n",
      "Iteration is 103, the Loss is 62.304002819043944, parameter k is 2.9779447881677896 and b is 4.291565121676091\n",
      "Iteration is 104, the Loss is 62.30309833168247, parameter k is 2.9780209811860474 and b is 4.290617015642251\n",
      "Iteration is 105, the Loss is 62.30219466842979, parameter k is 2.978102997389193 and b is 4.289669848129954\n",
      "Iteration is 106, the Loss is 62.30129170654033, parameter k is 2.9781903592502355 and b is 4.28872354406898\n",
      "Iteration is 107, the Loss is 62.30038934256302, parameter k is 2.9782826283777255 and b is 4.287778034541416\n",
      "Iteration is 108, the Loss is 62.29948748930787, parameter k is 2.978379402308417 and b is 4.286833256277444\n",
      "Iteration is 109, the Loss is 62.29858607329068, parameter k is 2.978480311562787 and b is 4.285889151192455\n",
      "Iteration is 110, the Loss is 62.29768503257774, parameter k is 2.9785850169418655 and b is 4.284945665962096\n",
      "Iteration is 111, the Loss is 62.296784314970644, parameter k is 2.9786932070456067 and b is 4.284002751632146\n",
      "Iteration is 112, the Loss is 62.29588387647574, parameter k is 2.9788045959946388 and b is 4.283060363260363\n",
      "Iteration is 113, the Loss is 62.29498368001483, parameter k is 2.978918921338727 and b is 4.282118459587685\n",
      "Iteration is 114, the Loss is 62.29408369433757, parameter k is 2.9790359421366475 and b is 4.281177002736374\n",
      "Iteration is 115, the Loss is 62.29318389310565, parameter k is 2.9791554371934263 and b is 4.280235957932905\n",
      "Iteration is 116, the Loss is 62.29228425412062, parameter k is 2.979277203442042 and b is 4.279295293253557\n",
      "Iteration is 117, the Loss is 62.291384758673296, parameter k is 2.979401054457757 and b is 4.278354979390861\n",
      "Iteration is 118, the Loss is 62.29048539099483, parameter k is 2.9795268190942066 and b is 4.277414989439186\n",
      "Iteration is 119, the Loss is 62.289586137794956, parameter k is 2.979654340231264 and b is 4.276475298697896\n",
      "Iteration is 120, the Loss is 62.28868698787224, parameter k is 2.979783473625528 and b is 4.275535884490643\n",
      "Iteration is 121, the Loss is 62.28778793178566, parameter k is 2.979914086855014 and b is 4.274596725999464\n",
      "Iteration is 122, the Loss is 62.286888961577816, parameter k is 2.980046058350336 and b is 4.273657804112481\n",
      "Iteration is 123, the Loss is 62.28599007054215, parameter k is 2.9801792765052855 and b is 4.272719101284076\n",
      "Iteration is 124, the Loss is 62.285091253025655, parameter k is 2.9803136388603035 and b is 4.271780601406532\n",
      "Iteration is 125, the Loss is 62.28419250426382, parameter k is 2.98044905135287 and b is 4.27084228969219\n",
      "Iteration is 126, the Loss is 62.28329382024046, parameter k is 2.9805854276293284 and b is 4.269904152565263\n",
      "Iteration is 127, the Loss is 62.28239519757095, parameter k is 2.980722688413109 and b is 4.268966177562516\n",
      "Iteration is 128, the Loss is 62.28149663340171, parameter k is 2.9808607609247284 and b is 4.268028353242091\n",
      "Iteration is 129, the Loss is 62.28059812532781, parameter k is 2.980999578349324 and b is 4.267090669099797\n",
      "Iteration is 130, the Loss is 62.27969967132194, parameter k is 2.981139079347826 and b is 4.266153115492268\n",
      "Iteration is 131, the Loss is 62.27880126967515, parameter k is 2.9812792076081895 and b is 4.26521568356641\n",
      "Iteration is 132, the Loss is 62.27790291894673, parameter k is 2.981419911433409 and b is 4.264278365194636\n",
      "Iteration is 133, the Loss is 62.27700461792214, parameter k is 2.981561143363293 and b is 4.263341152915409\n",
      "Iteration is 134, the Loss is 62.27610636557752, parameter k is 2.9817028598272373 and b is 4.262404039878653\n",
      "Iteration is 135, the Loss is 62.27520816104947, parameter k is 2.9818450208254577 and b is 4.261467019795647\n",
      "Iteration is 136, the Loss is 62.27431000361016, parameter k is 2.9819875896363426 and b is 4.26053008689301\n",
      "Iteration is 137, the Loss is 62.273411892645676, parameter k is 2.9821305325477923 and b is 4.259593235870476\n",
      "Iteration is 138, the Loss is 62.2725138276384, parameter k is 2.982273818610576 and b is 4.258656461862113\n",
      "Iteration is 139, the Loss is 62.27161580815168, parameter k is 2.9824174194119015 and b is 4.257719760400732\n",
      "Iteration is 140, the Loss is 62.27071783381714, parameter k is 2.982561308867543 and b is 4.256783127385206\n",
      "Iteration is 141, the Loss is 62.26981990432428, parameter k is 2.9827054630310044 and b is 4.255846559050469\n",
      "Iteration is 142, the Loss is 62.26892201941054, parameter k is 2.982849859918321 and b is 4.2549100519399765\n",
      "Iteration is 143, the Loss is 62.2680241788549, parameter k is 2.9829944793472225 and b is 4.253973602880418\n",
      "Iteration is 144, the Loss is 62.26712638247029, parameter k is 2.983139302789476 and b is 4.2530372089585065\n",
      "Iteration is 145, the Loss is 62.26622863009892, parameter k is 2.98328431323533 and b is 4.252100867499668\n",
      "Iteration is 146, the Loss is 62.26533092160744, parameter k is 2.983429495069066 and b is 4.251164576048478\n",
      "Iteration is 147, the Loss is 62.26443325688328, parameter k is 2.9835748339547528 and b is 4.2502283323507015\n",
      "Iteration is 148, the Loss is 62.26353563583108, parameter k is 2.983720316731363 and b is 4.249292134336803\n",
      "Iteration is 149, the Loss is 62.26263805837012, parameter k is 2.983865931316481 and b is 4.24835598010681\n",
      "Iteration is 150, the Loss is 62.261740524432085, parameter k is 2.9840116666179095 and b is 4.2474198679164195\n",
      "Iteration is 151, the Loss is 62.26084303395908, parameter k is 2.9841575124525135 and b is 4.246483796164236\n",
      "Iteration is 152, the Loss is 62.2599455869021, parameter k is 2.9843034594717204 and b is 4.2455477633800625\n",
      "Iteration is 153, the Loss is 62.25904818321933, parameter k is 2.984449499093123 and b is 4.2446117682141455\n",
      "Iteration is 154, the Loss is 62.25815082287523, parameter k is 2.9845956234376882 and b is 4.243675809427308\n",
      "Iteration is 155, the Loss is 62.25725350583973, parameter k is 2.9847418252721143 and b is 4.242739885881883\n",
      "Iteration is 156, the Loss is 62.25635623208675, parameter k is 2.984888097955908 and b is 4.241803996533396\n",
      "Iteration is 157, the Loss is 62.25545900159463, parameter k is 2.9850344353928016 and b is 4.240868140422929\n",
      "Iteration is 158, the Loss is 62.25456181434392, parameter k is 2.9851808319861526 and b is 4.239932316670107\n",
      "Iteration is 159, the Loss is 62.253664670318685, parameter k is 2.985327282597995 and b is 4.2389965244666605\n",
      "Iteration is 160, the Loss is 62.252767569504776, parameter k is 2.9854737825114506 and b is 4.238060763070519\n",
      "Iteration is 161, the Loss is 62.251870511889884, parameter k is 2.9856203273962176 and b is 4.237125031800382\n",
      "Iteration is 162, the Loss is 62.250973497463846, parameter k is 2.985766913276889 and b is 4.236189330030741\n",
      "Iteration is 163, the Loss is 62.25007652621689, parameter k is 2.985913536503869 and b is 4.2352536571873065\n",
      "Iteration is 164, the Loss is 62.24917959814126, parameter k is 2.986060193726668 and b is 4.23431801274281\n",
      "Iteration is 165, the Loss is 62.24828271322963, parameter k is 2.986206881869393 and b is 4.233382396213152\n",
      "Iteration is 166, the Loss is 62.24738587147569, parameter k is 2.986353598108241 and b is 4.2324468071538615\n",
      "Iteration is 167, the Loss is 62.24648907287376, parameter k is 2.9865003398508394 and b is 4.23151124515685\n",
      "Iteration is 168, the Loss is 62.24559231741866, parameter k is 2.98664710471728 and b is 4.230575709847429\n",
      "Iteration is 169, the Loss is 62.24469560510581, parameter k is 2.986793890522705 and b is 4.229640200881573\n",
      "Iteration is 170, the Loss is 62.243798935931004, parameter k is 2.9869406952613238 and b is 4.228704717943409\n",
      "Iteration is 171, the Loss is 62.2429023098901, parameter k is 2.987087517091736 and b is 4.227769260742904\n",
      "Iteration is 172, the Loss is 62.24200572697978, parameter k is 2.9872343543234594 and b is 4.226833829013752\n",
      "Iteration is 173, the Loss is 62.241109187196564, parameter k is 2.987381205404562 and b is 4.225898422511426\n",
      "Iteration is 174, the Loss is 62.24021269053724, parameter k is 2.9875280689103056 and b is 4.224963041011397\n",
      "Iteration is 175, the Loss is 62.23931623699886, parameter k is 2.9876749435327246 and b is 4.22402768430749\n",
      "Iteration is 176, the Loss is 62.23841982657856, parameter k is 2.9878218280710525 and b is 4.2230923522103865\n",
      "Iteration is 177, the Loss is 62.23752345927359, parameter k is 2.987968721422939 and b is 4.222157044546236\n",
      "Iteration is 178, the Loss is 62.23662713508143, parameter k is 2.9881156225763834 and b is 4.221221761155393\n",
      "Iteration is 179, the Loss is 62.23573085399941, parameter k is 2.98826253060233 and b is 4.22028650189125\n",
      "Iteration is 180, the Loss is 62.23483461602505, parameter k is 2.9884094446478695 and b is 4.219351266619173\n",
      "Iteration is 181, the Loss is 62.23393842115619, parameter k is 2.9885563639300012 and b is 4.218416055215514\n",
      "Iteration is 182, the Loss is 62.23304226939018, parameter k is 2.988703287729901 and b is 4.217480867566717\n",
      "Iteration is 183, the Loss is 62.232146160724895, parameter k is 2.988850215387662 and b is 4.216545703568488\n",
      "Iteration is 184, the Loss is 62.2312500951579, parameter k is 2.988997146297468 and b is 4.2156105631250345\n",
      "Iteration is 185, the Loss is 62.23035407268715, parameter k is 2.989144079903158 and b is 4.214675446148371\n",
      "Iteration is 186, the Loss is 62.229458093310406, parameter k is 2.9892910156941586 and b is 4.2137403525576795\n",
      "Iteration is 187, the Loss is 62.22856215702526, parameter k is 2.989437953201747 and b is 4.212805282278719\n",
      "Iteration is 188, the Loss is 62.227666263829775, parameter k is 2.9895848919956216 and b is 4.211870235243291\n",
      "Iteration is 189, the Loss is 62.226770413721695, parameter k is 2.9897318316807526 and b is 4.2109352113887395\n",
      "Iteration is 190, the Loss is 62.22587460669895, parameter k is 2.989878771894492 and b is 4.210000210657501\n",
      "Iteration is 191, the Loss is 62.224978842759334, parameter k is 2.990025712303919 and b is 4.209065232996685\n",
      "Iteration is 192, the Loss is 62.224083121900755, parameter k is 2.990172652603405 and b is 4.20813027835769\n",
      "Iteration is 193, the Loss is 62.22318744412106, parameter k is 2.9903195925123747 and b is 4.207195346695856\n",
      "Iteration is 194, the Loss is 62.22229180941815, parameter k is 2.9904665317732557 and b is 4.206260437970135\n",
      "Iteration is 195, the Loss is 62.22139621779, parameter k is 2.9906134701495906 and b is 4.205325552142803\n",
      "Iteration is 196, the Loss is 62.220500669234475, parameter k is 2.9907604074243084 and b is 4.20439068917918\n",
      "Iteration is 197, the Loss is 62.219605163749414, parameter k is 2.990907343398135 and b is 4.203455849047384\n",
      "Iteration is 198, the Loss is 62.218709701332706, parameter k is 2.991054277888134 and b is 4.202521031718105\n",
      "Iteration is 199, the Loss is 62.21781428198242, parameter k is 2.9912012107263695 and b is 4.2015862371643875\n"
     ]
    }
   ],
   "source": [
    "k = random.random() * 20 - 10 #-10 10  #设置小一点，以防振荡\n",
    "b = random.random() * 20 - 10 #-10 10\n",
    "learning_rate = 1e-3\n",
    "iteration_num = 200 #迭代次数，走200步\n",
    "losses = [] #每走一步，losses的值存储\n",
    "for i in range(iteration_num):\n",
    "    price_use_current_parameters = [price(r,k,b) for r in X_rm]  #|hat(y)\n",
    "    current_loss = loss(y,price_use_current_parameters)\n",
    "    losses.append(current_loss)\n",
    "    print(\"Iteration is {}, the Loss is {}, parameter k is {} and b is {}\".format(i,current_loss,k,b))\n",
    "    \n",
    "    k_gradient = partial_derivative_k(X_rm,y,price_use_current_parameters)\n",
    "    b_gradient = partial_derivative_b(y,price_use_current_parameters)\n",
    "    \n",
    "    k = k + (-1 * k_gradient) * learning_rate\n",
    "    b = b + (-1 * b_gradient) * learning_rate\n",
    "    \n",
    "best_k = k\n",
    "best_b = b"
   ]
  },
  {
   "cell_type": "markdown",
   "metadata": {},
   "source": [
    "结果与初始化参数、学习率、迭代次数有很大关系"
   ]
  },
  {
   "cell_type": "code",
   "execution_count": 82,
   "metadata": {},
   "outputs": [
    {
     "data": {
      "text/plain": [
       "[<matplotlib.lines.Line2D at 0x128107b8>]"
      ]
     },
     "execution_count": 82,
     "metadata": {},
     "output_type": "execute_result"
    },
    {
     "data": {
      "image/png": "[encoded data removed]",
      "text/plain": [
       "<Figure size 432x288 with 1 Axes>"
      ]
     },
     "metadata": {
      "needs_background": "light"
     },
     "output_type": "display_data"
    }
   ],
   "source": [
    "plt.plot(list(range(iteration_num)),losses)"
   ]
  },
  {
   "cell_type": "markdown",
   "metadata": {},
   "source": [
    "纵轴为loss"
   ]
  },
  {
   "cell_type": "code",
   "execution_count": 84,
   "metadata": {},
   "outputs": [
    {
     "data": {
      "text/plain": [
       "<matplotlib.collections.PathCollection at 0x127a7588>"
      ]
     },
     "execution_count": 84,
     "metadata": {},
     "output_type": "execute_result"
    },
    {
     "data": {
      "image/png": "[encoded data removed]",
      "text/plain": [
       "<Figure size 432x288 with 1 Axes>"
      ]
     },
     "metadata": {
      "needs_background": "light"
     },
     "output_type": "display_data"
    }
   ],
   "source": [
    "price_use_best_parameters = [price(r,best_k,best_b) for r in X_rm]\n",
    "plt.scatter(X_rm,y)\n",
    "plt.scatter(X_rm,price_use_best_parameters)"
   ]
  },
  {
   "cell_type": "code",
   "execution_count": null,
   "metadata": {},
   "outputs": [],
   "source": []
  }
 ],
 "metadata": {
  "kernelspec": {
   "display_name": "Python 3",
   "language": "python",
   "name": "python3"
  },
  "language_info": {
   "codemirror_mode": {
    "name": "ipython",
    "version": 3
   },
   "file_extension": ".py",
   "mimetype": "text/x-python",
   "name": "python",
   "nbconvert_exporter": "python",
   "pygments_lexer": "ipython3",
   "version": "3.7.0"
  }
 },
 "nbformat": 4,
 "nbformat_minor": 2
}
