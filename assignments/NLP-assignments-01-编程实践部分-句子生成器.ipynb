{
 "cells": [
  {
   "cell_type": "code",
   "execution_count": 1,
   "metadata": {},
   "outputs": [],
   "source": [
    "import random"
   ]
  },
  {
   "cell_type": "code",
   "execution_count": 2,
   "metadata": {
    "collapsed": true
   },
   "outputs": [],
   "source": [
    "zoo = '''\n",
    "scene = animals action object\n",
    "animals = animal animals | animal\n",
    "animal = 老虎 | 袋鼠 | 火烈鸟 | 小熊猫\n",
    "action = 吃着 | 玩着 | 拨弄着 | 倚靠着\n",
    "object = 午饭 | 小板凳 | 小虫子 | 墙壁'''"
   ]
  },
  {
   "cell_type": "code",
   "execution_count": 3,
   "metadata": {},
   "outputs": [],
   "source": [
    "garden = '''\n",
    "view = location plants status tail\n",
    "location = 角落的 | 正中央的 | 一旁的 | 靠后的\n",
    "plants = plant plants | plant\n",
    "plant = 桃树 | 松柏 | 山茶花 | 牡丹\n",
    "status = 叶子黄了 | 开花了 | 结果了 | 长出了新芽\n",
    "tail = 非常香 | 真好看 | 一大片'''"
   ]
  },
  {
   "cell_type": "code",
   "execution_count": 4,
   "metadata": {},
   "outputs": [],
   "source": [
    "def sentence_generator(grammar_str:str, target, stmt_split='=',or_split='|'):\n",
    "    sentence_rules = dict()\n",
    "    for line in grammar_str.split('\\n'):\n",
    "        if not line: continue\n",
    "        stmt,expr = line.split(stmt_split)\n",
    "        sentence_rules[stmt.strip()] = expr.split(or_split) \n",
    "    \n",
    "    generated = generate(sentence_rules, target=target)\n",
    "    return generated"
   ]
  },
  {
   "cell_type": "code",
   "execution_count": 5,
   "metadata": {},
   "outputs": [],
   "source": [
    "def generate(grammar_rule,target):\n",
    "    if target in grammar_rule:\n",
    "        candidates = grammar_rule[target]\n",
    "        candidate = random.choice(candidates)\n",
    "        return ' '.join(generate(grammar_rule,target=c.strip( ))for c in candidate.split( ))\n",
    "    else:\n",
    "        return target"
   ]
  },
  {
   "cell_type": "code",
   "execution_count": 13,
   "metadata": {},
   "outputs": [
    {
     "data": {
      "text/plain": [
       "'袋鼠 老虎 老虎 小熊猫 火烈鸟 袋鼠 倚靠着 小虫子'"
      ]
     },
     "execution_count": 13,
     "metadata": {},
     "output_type": "execute_result"
    }
   ],
   "source": [
    "sentence_generator(zoo, target='scene')"
   ]
  },
  {
   "cell_type": "code",
   "execution_count": 14,
   "metadata": {},
   "outputs": [
    {
     "data": {
      "text/plain": [
       "'正中央的 牡丹 结果了 一大片'"
      ]
     },
     "execution_count": 14,
     "metadata": {},
     "output_type": "execute_result"
    }
   ],
   "source": [
    "sentence_generator(garden, target='view')"
   ]
  },
  {
   "cell_type": "code",
   "execution_count": null,
   "metadata": {},
   "outputs": [],
   "source": [
    "\n"
   ]
  }
 ],
 "metadata": {
  "kernelspec": {
   "display_name": "Python 2",
   "language": "python",
   "name": "python2"
  },
  "language_info": {
   "codemirror_mode": {
    "name": "ipython",
    "version": 2
   },
   "file_extension": ".py",
   "mimetype": "text/x-python",
   "name": "python",
   "nbconvert_exporter": "python",
   "pygments_lexer": "ipython2",
   "version": "2.7.6"
  }
 },
 "nbformat": 4,
 "nbformat_minor": 0
}
